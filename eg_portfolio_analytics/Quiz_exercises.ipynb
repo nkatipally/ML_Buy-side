{
 "cells": [
  {
   "cell_type": "markdown",
   "metadata": {},
   "source": [
    "# Quiz exercises"
   ]
  },
  {
   "cell_type": "code",
   "execution_count": 60,
   "metadata": {},
   "outputs": [],
   "source": [
    "import pandas as pd\n",
    "import numpy as np"
   ]
  },
  {
   "cell_type": "code",
   "execution_count": 4,
   "metadata": {},
   "outputs": [
    {
     "data": {
      "text/html": [
       "<div>\n",
       "<style scoped>\n",
       "    .dataframe tbody tr th:only-of-type {\n",
       "        vertical-align: middle;\n",
       "    }\n",
       "\n",
       "    .dataframe tbody tr th {\n",
       "        vertical-align: top;\n",
       "    }\n",
       "\n",
       "    .dataframe thead th {\n",
       "        text-align: right;\n",
       "    }\n",
       "</style>\n",
       "<table border=\"1\" class=\"dataframe\">\n",
       "  <thead>\n",
       "    <tr style=\"text-align: right;\">\n",
       "      <th></th>\n",
       "      <th>Unnamed: 0</th>\n",
       "      <th>&lt;= 0</th>\n",
       "      <th>Lo 30</th>\n",
       "      <th>Med 40</th>\n",
       "      <th>Hi 30</th>\n",
       "      <th>Lo 20</th>\n",
       "      <th>Qnt 2</th>\n",
       "      <th>Qnt 3</th>\n",
       "      <th>Qnt 4</th>\n",
       "      <th>Hi 20</th>\n",
       "      <th>Lo 10</th>\n",
       "      <th>Dec 2</th>\n",
       "      <th>Dec 3</th>\n",
       "      <th>Dec 4</th>\n",
       "      <th>Dec 5</th>\n",
       "      <th>Dec 6</th>\n",
       "      <th>Dec 7</th>\n",
       "      <th>Dec 8</th>\n",
       "      <th>Dec 9</th>\n",
       "      <th>Hi 10</th>\n",
       "    </tr>\n",
       "  </thead>\n",
       "  <tbody>\n",
       "    <tr>\n",
       "      <td>0</td>\n",
       "      <td>192607</td>\n",
       "      <td>-99.99</td>\n",
       "      <td>-0.43</td>\n",
       "      <td>1.52</td>\n",
       "      <td>2.68</td>\n",
       "      <td>-0.57</td>\n",
       "      <td>0.59</td>\n",
       "      <td>1.60</td>\n",
       "      <td>1.47</td>\n",
       "      <td>3.33</td>\n",
       "      <td>-1.45</td>\n",
       "      <td>0.29</td>\n",
       "      <td>-0.15</td>\n",
       "      <td>1.33</td>\n",
       "      <td>1.24</td>\n",
       "      <td>1.98</td>\n",
       "      <td>1.55</td>\n",
       "      <td>1.38</td>\n",
       "      <td>3.38</td>\n",
       "      <td>3.29</td>\n",
       "    </tr>\n",
       "    <tr>\n",
       "      <td>1</td>\n",
       "      <td>192608</td>\n",
       "      <td>-99.99</td>\n",
       "      <td>3.90</td>\n",
       "      <td>3.04</td>\n",
       "      <td>2.09</td>\n",
       "      <td>3.84</td>\n",
       "      <td>3.59</td>\n",
       "      <td>3.71</td>\n",
       "      <td>1.61</td>\n",
       "      <td>2.33</td>\n",
       "      <td>5.12</td>\n",
       "      <td>2.59</td>\n",
       "      <td>4.03</td>\n",
       "      <td>3.15</td>\n",
       "      <td>2.72</td>\n",
       "      <td>4.72</td>\n",
       "      <td>1.60</td>\n",
       "      <td>1.63</td>\n",
       "      <td>0.98</td>\n",
       "      <td>3.70</td>\n",
       "    </tr>\n",
       "    <tr>\n",
       "      <td>2</td>\n",
       "      <td>192609</td>\n",
       "      <td>-99.99</td>\n",
       "      <td>-1.08</td>\n",
       "      <td>-0.54</td>\n",
       "      <td>0.16</td>\n",
       "      <td>-0.48</td>\n",
       "      <td>-1.40</td>\n",
       "      <td>0.00</td>\n",
       "      <td>-0.50</td>\n",
       "      <td>-0.09</td>\n",
       "      <td>0.93</td>\n",
       "      <td>-1.87</td>\n",
       "      <td>-2.27</td>\n",
       "      <td>-0.53</td>\n",
       "      <td>0.07</td>\n",
       "      <td>-0.07</td>\n",
       "      <td>-1.64</td>\n",
       "      <td>0.64</td>\n",
       "      <td>-0.86</td>\n",
       "      <td>0.67</td>\n",
       "    </tr>\n",
       "    <tr>\n",
       "      <td>3</td>\n",
       "      <td>192610</td>\n",
       "      <td>-99.99</td>\n",
       "      <td>-3.32</td>\n",
       "      <td>-3.52</td>\n",
       "      <td>-3.06</td>\n",
       "      <td>-3.29</td>\n",
       "      <td>-4.10</td>\n",
       "      <td>-2.89</td>\n",
       "      <td>-3.36</td>\n",
       "      <td>-2.95</td>\n",
       "      <td>-4.84</td>\n",
       "      <td>-1.77</td>\n",
       "      <td>-3.36</td>\n",
       "      <td>-4.83</td>\n",
       "      <td>-2.98</td>\n",
       "      <td>-2.80</td>\n",
       "      <td>-3.45</td>\n",
       "      <td>-3.27</td>\n",
       "      <td>-3.47</td>\n",
       "      <td>-2.43</td>\n",
       "    </tr>\n",
       "    <tr>\n",
       "      <td>4</td>\n",
       "      <td>192611</td>\n",
       "      <td>-99.99</td>\n",
       "      <td>-0.46</td>\n",
       "      <td>3.82</td>\n",
       "      <td>3.09</td>\n",
       "      <td>-0.55</td>\n",
       "      <td>2.18</td>\n",
       "      <td>3.41</td>\n",
       "      <td>3.39</td>\n",
       "      <td>3.16</td>\n",
       "      <td>-0.78</td>\n",
       "      <td>-0.32</td>\n",
       "      <td>-0.29</td>\n",
       "      <td>4.65</td>\n",
       "      <td>3.24</td>\n",
       "      <td>3.57</td>\n",
       "      <td>3.82</td>\n",
       "      <td>2.95</td>\n",
       "      <td>3.61</td>\n",
       "      <td>2.70</td>\n",
       "    </tr>\n",
       "  </tbody>\n",
       "</table>\n",
       "</div>"
      ],
      "text/plain": [
       "   Unnamed: 0   <= 0  Lo 30  Med 40  Hi 30  Lo 20  Qnt 2  Qnt 3  Qnt 4  Hi 20  \\\n",
       "0      192607 -99.99  -0.43    1.52   2.68  -0.57   0.59   1.60   1.47   3.33   \n",
       "1      192608 -99.99   3.90    3.04   2.09   3.84   3.59   3.71   1.61   2.33   \n",
       "2      192609 -99.99  -1.08   -0.54   0.16  -0.48  -1.40   0.00  -0.50  -0.09   \n",
       "3      192610 -99.99  -3.32   -3.52  -3.06  -3.29  -4.10  -2.89  -3.36  -2.95   \n",
       "4      192611 -99.99  -0.46    3.82   3.09  -0.55   2.18   3.41   3.39   3.16   \n",
       "\n",
       "   Lo 10  Dec 2  Dec 3  Dec 4  Dec 5  Dec 6  Dec 7  Dec 8  Dec 9  Hi 10  \n",
       "0  -1.45   0.29  -0.15   1.33   1.24   1.98   1.55   1.38   3.38   3.29  \n",
       "1   5.12   2.59   4.03   3.15   2.72   4.72   1.60   1.63   0.98   3.70  \n",
       "2   0.93  -1.87  -2.27  -0.53   0.07  -0.07  -1.64   0.64  -0.86   0.67  \n",
       "3  -4.84  -1.77  -3.36  -4.83  -2.98  -2.80  -3.45  -3.27  -3.47  -2.43  \n",
       "4  -0.78  -0.32  -0.29   4.65   3.24   3.57   3.82   2.95   3.61   2.70  "
      ]
     },
     "execution_count": 4,
     "metadata": {},
     "output_type": "execute_result"
    }
   ],
   "source": [
    "file=pd.read_csv(r'C:\\Data\\Portfolios_Formed_on_ME_monthly_EW.csv')\n",
    "file.head()"
   ]
  },
  {
   "cell_type": "code",
   "execution_count": 8,
   "metadata": {},
   "outputs": [
    {
     "data": {
      "text/html": [
       "<div>\n",
       "<style scoped>\n",
       "    .dataframe tbody tr th:only-of-type {\n",
       "        vertical-align: middle;\n",
       "    }\n",
       "\n",
       "    .dataframe tbody tr th {\n",
       "        vertical-align: top;\n",
       "    }\n",
       "\n",
       "    .dataframe thead th {\n",
       "        text-align: right;\n",
       "    }\n",
       "</style>\n",
       "<table border=\"1\" class=\"dataframe\">\n",
       "  <thead>\n",
       "    <tr style=\"text-align: right;\">\n",
       "      <th></th>\n",
       "      <th>&lt;= 0</th>\n",
       "      <th>Lo 30</th>\n",
       "      <th>Med 40</th>\n",
       "      <th>Hi 30</th>\n",
       "      <th>Lo 20</th>\n",
       "      <th>Qnt 2</th>\n",
       "      <th>Qnt 3</th>\n",
       "      <th>Qnt 4</th>\n",
       "      <th>Hi 20</th>\n",
       "      <th>Lo 10</th>\n",
       "      <th>Dec 2</th>\n",
       "      <th>Dec 3</th>\n",
       "      <th>Dec 4</th>\n",
       "      <th>Dec 5</th>\n",
       "      <th>Dec 6</th>\n",
       "      <th>Dec 7</th>\n",
       "      <th>Dec 8</th>\n",
       "      <th>Dec 9</th>\n",
       "      <th>Hi 10</th>\n",
       "    </tr>\n",
       "  </thead>\n",
       "  <tbody>\n",
       "    <tr>\n",
       "      <td>192607</td>\n",
       "      <td>NaN</td>\n",
       "      <td>-0.43</td>\n",
       "      <td>1.52</td>\n",
       "      <td>2.68</td>\n",
       "      <td>-0.57</td>\n",
       "      <td>0.59</td>\n",
       "      <td>1.60</td>\n",
       "      <td>1.47</td>\n",
       "      <td>3.33</td>\n",
       "      <td>-1.45</td>\n",
       "      <td>0.29</td>\n",
       "      <td>-0.15</td>\n",
       "      <td>1.33</td>\n",
       "      <td>1.24</td>\n",
       "      <td>1.98</td>\n",
       "      <td>1.55</td>\n",
       "      <td>1.38</td>\n",
       "      <td>3.38</td>\n",
       "      <td>3.29</td>\n",
       "    </tr>\n",
       "    <tr>\n",
       "      <td>192608</td>\n",
       "      <td>NaN</td>\n",
       "      <td>3.90</td>\n",
       "      <td>3.04</td>\n",
       "      <td>2.09</td>\n",
       "      <td>3.84</td>\n",
       "      <td>3.59</td>\n",
       "      <td>3.71</td>\n",
       "      <td>1.61</td>\n",
       "      <td>2.33</td>\n",
       "      <td>5.12</td>\n",
       "      <td>2.59</td>\n",
       "      <td>4.03</td>\n",
       "      <td>3.15</td>\n",
       "      <td>2.72</td>\n",
       "      <td>4.72</td>\n",
       "      <td>1.60</td>\n",
       "      <td>1.63</td>\n",
       "      <td>0.98</td>\n",
       "      <td>3.70</td>\n",
       "    </tr>\n",
       "    <tr>\n",
       "      <td>192609</td>\n",
       "      <td>NaN</td>\n",
       "      <td>-1.08</td>\n",
       "      <td>-0.54</td>\n",
       "      <td>0.16</td>\n",
       "      <td>-0.48</td>\n",
       "      <td>-1.40</td>\n",
       "      <td>0.00</td>\n",
       "      <td>-0.50</td>\n",
       "      <td>-0.09</td>\n",
       "      <td>0.93</td>\n",
       "      <td>-1.87</td>\n",
       "      <td>-2.27</td>\n",
       "      <td>-0.53</td>\n",
       "      <td>0.07</td>\n",
       "      <td>-0.07</td>\n",
       "      <td>-1.64</td>\n",
       "      <td>0.64</td>\n",
       "      <td>-0.86</td>\n",
       "      <td>0.67</td>\n",
       "    </tr>\n",
       "    <tr>\n",
       "      <td>192610</td>\n",
       "      <td>NaN</td>\n",
       "      <td>-3.32</td>\n",
       "      <td>-3.52</td>\n",
       "      <td>-3.06</td>\n",
       "      <td>-3.29</td>\n",
       "      <td>-4.10</td>\n",
       "      <td>-2.89</td>\n",
       "      <td>-3.36</td>\n",
       "      <td>-2.95</td>\n",
       "      <td>-4.84</td>\n",
       "      <td>-1.77</td>\n",
       "      <td>-3.36</td>\n",
       "      <td>-4.83</td>\n",
       "      <td>-2.98</td>\n",
       "      <td>-2.80</td>\n",
       "      <td>-3.45</td>\n",
       "      <td>-3.27</td>\n",
       "      <td>-3.47</td>\n",
       "      <td>-2.43</td>\n",
       "    </tr>\n",
       "    <tr>\n",
       "      <td>192611</td>\n",
       "      <td>NaN</td>\n",
       "      <td>-0.46</td>\n",
       "      <td>3.82</td>\n",
       "      <td>3.09</td>\n",
       "      <td>-0.55</td>\n",
       "      <td>2.18</td>\n",
       "      <td>3.41</td>\n",
       "      <td>3.39</td>\n",
       "      <td>3.16</td>\n",
       "      <td>-0.78</td>\n",
       "      <td>-0.32</td>\n",
       "      <td>-0.29</td>\n",
       "      <td>4.65</td>\n",
       "      <td>3.24</td>\n",
       "      <td>3.57</td>\n",
       "      <td>3.82</td>\n",
       "      <td>2.95</td>\n",
       "      <td>3.61</td>\n",
       "      <td>2.70</td>\n",
       "    </tr>\n",
       "  </tbody>\n",
       "</table>\n",
       "</div>"
      ],
      "text/plain": [
       "        <= 0  Lo 30  Med 40  Hi 30  Lo 20  Qnt 2  Qnt 3  Qnt 4  Hi 20  Lo 10  \\\n",
       "192607   NaN  -0.43    1.52   2.68  -0.57   0.59   1.60   1.47   3.33  -1.45   \n",
       "192608   NaN   3.90    3.04   2.09   3.84   3.59   3.71   1.61   2.33   5.12   \n",
       "192609   NaN  -1.08   -0.54   0.16  -0.48  -1.40   0.00  -0.50  -0.09   0.93   \n",
       "192610   NaN  -3.32   -3.52  -3.06  -3.29  -4.10  -2.89  -3.36  -2.95  -4.84   \n",
       "192611   NaN  -0.46    3.82   3.09  -0.55   2.18   3.41   3.39   3.16  -0.78   \n",
       "\n",
       "        Dec 2  Dec 3  Dec 4  Dec 5  Dec 6  Dec 7  Dec 8  Dec 9  Hi 10  \n",
       "192607   0.29  -0.15   1.33   1.24   1.98   1.55   1.38   3.38   3.29  \n",
       "192608   2.59   4.03   3.15   2.72   4.72   1.60   1.63   0.98   3.70  \n",
       "192609  -1.87  -2.27  -0.53   0.07  -0.07  -1.64   0.64  -0.86   0.67  \n",
       "192610  -1.77  -3.36  -4.83  -2.98  -2.80  -3.45  -3.27  -3.47  -2.43  \n",
       "192611  -0.32  -0.29   4.65   3.24   3.57   3.82   2.95   3.61   2.70  "
      ]
     },
     "execution_count": 8,
     "metadata": {},
     "output_type": "execute_result"
    }
   ],
   "source": [
    "file=pd.read_csv(r'C:\\Data\\Portfolios_Formed_on_ME_monthly_EW.csv', \n",
    "                 header=0, index_col=0, parse_dates=True, na_values=-99.99)\n",
    "file.head()"
   ]
  },
  {
   "cell_type": "code",
   "execution_count": 42,
   "metadata": {},
   "outputs": [
    {
     "data": {
      "text/html": [
       "<div>\n",
       "<style scoped>\n",
       "    .dataframe tbody tr th:only-of-type {\n",
       "        vertical-align: middle;\n",
       "    }\n",
       "\n",
       "    .dataframe tbody tr th {\n",
       "        vertical-align: top;\n",
       "    }\n",
       "\n",
       "    .dataframe thead th {\n",
       "        text-align: right;\n",
       "    }\n",
       "</style>\n",
       "<table border=\"1\" class=\"dataframe\">\n",
       "  <thead>\n",
       "    <tr style=\"text-align: right;\">\n",
       "      <th></th>\n",
       "      <th>Lo 20</th>\n",
       "      <th>Hi 20</th>\n",
       "    </tr>\n",
       "  </thead>\n",
       "  <tbody>\n",
       "    <tr>\n",
       "      <td>192607</td>\n",
       "      <td>-0.57</td>\n",
       "      <td>3.33</td>\n",
       "    </tr>\n",
       "    <tr>\n",
       "      <td>192608</td>\n",
       "      <td>3.84</td>\n",
       "      <td>2.33</td>\n",
       "    </tr>\n",
       "    <tr>\n",
       "      <td>192609</td>\n",
       "      <td>-0.48</td>\n",
       "      <td>-0.09</td>\n",
       "    </tr>\n",
       "    <tr>\n",
       "      <td>192610</td>\n",
       "      <td>-3.29</td>\n",
       "      <td>-2.95</td>\n",
       "    </tr>\n",
       "    <tr>\n",
       "      <td>192611</td>\n",
       "      <td>-0.55</td>\n",
       "      <td>3.16</td>\n",
       "    </tr>\n",
       "  </tbody>\n",
       "</table>\n",
       "</div>"
      ],
      "text/plain": [
       "        Lo 20  Hi 20\n",
       "192607  -0.57   3.33\n",
       "192608   3.84   2.33\n",
       "192609  -0.48  -0.09\n",
       "192610  -3.29  -2.95\n",
       "192611  -0.55   3.16"
      ]
     },
     "execution_count": 42,
     "metadata": {},
     "output_type": "execute_result"
    }
   ],
   "source": [
    "# Select only Lo 20 and Hi 20 columns\n",
    "returns=file[['Lo 20', 'Hi 20']]\n",
    "returns.head()"
   ]
  },
  {
   "cell_type": "code",
   "execution_count": 43,
   "metadata": {},
   "outputs": [
    {
     "data": {
      "text/html": [
       "<div>\n",
       "<style scoped>\n",
       "    .dataframe tbody tr th:only-of-type {\n",
       "        vertical-align: middle;\n",
       "    }\n",
       "\n",
       "    .dataframe tbody tr th {\n",
       "        vertical-align: top;\n",
       "    }\n",
       "\n",
       "    .dataframe thead th {\n",
       "        text-align: right;\n",
       "    }\n",
       "</style>\n",
       "<table border=\"1\" class=\"dataframe\">\n",
       "  <thead>\n",
       "    <tr style=\"text-align: right;\">\n",
       "      <th></th>\n",
       "      <th>Lo 20</th>\n",
       "      <th>Hi 20</th>\n",
       "    </tr>\n",
       "  </thead>\n",
       "  <tbody>\n",
       "    <tr>\n",
       "      <td>192607</td>\n",
       "      <td>-0.0057</td>\n",
       "      <td>0.0333</td>\n",
       "    </tr>\n",
       "    <tr>\n",
       "      <td>192608</td>\n",
       "      <td>0.0384</td>\n",
       "      <td>0.0233</td>\n",
       "    </tr>\n",
       "    <tr>\n",
       "      <td>192609</td>\n",
       "      <td>-0.0048</td>\n",
       "      <td>-0.0009</td>\n",
       "    </tr>\n",
       "    <tr>\n",
       "      <td>192610</td>\n",
       "      <td>-0.0329</td>\n",
       "      <td>-0.0295</td>\n",
       "    </tr>\n",
       "    <tr>\n",
       "      <td>192611</td>\n",
       "      <td>-0.0055</td>\n",
       "      <td>0.0316</td>\n",
       "    </tr>\n",
       "  </tbody>\n",
       "</table>\n",
       "</div>"
      ],
      "text/plain": [
       "         Lo 20   Hi 20\n",
       "192607 -0.0057  0.0333\n",
       "192608  0.0384  0.0233\n",
       "192609 -0.0048 -0.0009\n",
       "192610 -0.0329 -0.0295\n",
       "192611 -0.0055  0.0316"
      ]
     },
     "execution_count": 43,
     "metadata": {},
     "output_type": "execute_result"
    }
   ],
   "source": [
    "# convert returns to decimal format, so easy to add to 1+R format\n",
    "returns = returns/100\n",
    "returns.head()"
   ]
  },
  {
   "cell_type": "code",
   "execution_count": 50,
   "metadata": {},
   "outputs": [
    {
     "data": {
      "text/plain": [
       "1110"
      ]
     },
     "execution_count": 50,
     "metadata": {},
     "output_type": "execute_result"
    }
   ],
   "source": [
    "# Get number of months to use in the monthly returns calculation\n",
    "no_months = returns.shape[0]\n",
    "no_months"
   ]
  },
  {
   "cell_type": "code",
   "execution_count": 53,
   "metadata": {},
   "outputs": [
    {
     "data": {
      "text/plain": [
       "Lo 20    0.011860\n",
       "Hi 20    0.007859\n",
       "dtype: float64"
      ]
     },
     "execution_count": 53,
     "metadata": {},
     "output_type": "execute_result"
    }
   ],
   "source": [
    "# Calculate return per month\n",
    "month_returns = (1+returns).prod()**(1/no_months) -1\n",
    "month_returns\n"
   ]
  },
  {
   "cell_type": "code",
   "execution_count": 58,
   "metadata": {},
   "outputs": [
    {
     "data": {
      "text/plain": [
       "Lo 20    15.197701\n",
       "Hi 20     9.849021\n",
       "dtype: float64"
      ]
     },
     "execution_count": 58,
     "metadata": {},
     "output_type": "execute_result"
    }
   ],
   "source": [
    "# Annualised returns in %\n",
    "annual_returns = ((1+month_returns)**(12) -1)*100\n",
    "annual_returns"
   ]
  },
  {
   "cell_type": "code",
   "execution_count": 59,
   "metadata": {},
   "outputs": [
    {
     "data": {
      "text/plain": [
       "Lo 20    0.097197\n",
       "Hi 20    0.056325\n",
       "dtype: float64"
      ]
     },
     "execution_count": 59,
     "metadata": {},
     "output_type": "execute_result"
    }
   ],
   "source": [
    "# Calculate volatility of returns on current datset\n",
    "returns.std()"
   ]
  },
  {
   "cell_type": "code",
   "execution_count": 68,
   "metadata": {},
   "outputs": [
    {
     "data": {
      "text/plain": [
       "Lo 20    0.028058\n",
       "Hi 20    0.016260\n",
       "dtype: float64"
      ]
     },
     "execution_count": 68,
     "metadata": {},
     "output_type": "execute_result"
    }
   ],
   "source": [
    "# Monthly Volatility\n",
    "monthly_volt = returns.std() * np.sqrt(1/12)\n",
    "monthly_volt"
   ]
  },
  {
   "cell_type": "code",
   "execution_count": 62,
   "metadata": {},
   "outputs": [
    {
     "data": {
      "text/plain": [
       "Lo 20    0.336701\n",
       "Hi 20    0.195116\n",
       "dtype: float64"
      ]
     },
     "execution_count": 62,
     "metadata": {},
     "output_type": "execute_result"
    }
   ],
   "source": [
    "# Annual Volatility\n",
    "annual_volt = returns.std() * np.sqrt(12)\n",
    "annual_volt"
   ]
  },
  {
   "cell_type": "code",
   "execution_count": 66,
   "metadata": {},
   "outputs": [
    {
     "data": {
      "text/plain": [
       "Lo 20    33.7\n",
       "Hi 20    19.5\n",
       "dtype: float64"
      ]
     },
     "execution_count": 66,
     "metadata": {},
     "output_type": "execute_result"
    }
   ],
   "source": [
    "# Alternative annual volatility calculation\n",
    "annual_volt = ((monthly_volt *12)*100).round(1)\n",
    "annual_volt"
   ]
  },
  {
   "cell_type": "code",
   "execution_count": 78,
   "metadata": {},
   "outputs": [
    {
     "data": {
      "text/plain": [
       "Int64Index([192607, 192608, 192609, 192610, 192611, 192612, 192701, 192702,\n",
       "            192703, 192704,\n",
       "            ...\n",
       "            201803, 201804, 201805, 201806, 201807, 201808, 201809, 201810,\n",
       "            201811, 201812],\n",
       "           dtype='int64', length=1110)"
      ]
     },
     "execution_count": 78,
     "metadata": {},
     "output_type": "execute_result"
    }
   ],
   "source": [
    "# Periodical returns during 1999 and 2015 - Change the index to date format using to_datetime method\n",
    "# get current returns.index format\n",
    "returns.index\n"
   ]
  },
  {
   "cell_type": "code",
   "execution_count": 79,
   "metadata": {},
   "outputs": [
    {
     "data": {
      "text/plain": [
       "PeriodIndex(['1926-01', '1926-01', '1926-01', '1926-01', '1926-01', '1926-01',\n",
       "             '1927-01', '1927-01', '1927-01', '1927-01',\n",
       "             ...\n",
       "             '2018-01', '2018-01', '2018-01', '2018-01', '2018-01', '2018-01',\n",
       "             '2018-01', '2018-01', '2018-01', '2018-01'],\n",
       "            dtype='period[M]', length=1110, freq='M')"
      ]
     },
     "execution_count": 79,
     "metadata": {},
     "output_type": "execute_result"
    }
   ],
   "source": [
    "# Periodical returns during 1999 and 2015 - Change the index to date format using to_datetime method\n",
    "returns.index = pd.to_datetime(returns.index, format=\"%Y%M\").to_period('M')\n",
    "\n",
    "returns.index\n"
   ]
  },
  {
   "cell_type": "code",
   "execution_count": 99,
   "metadata": {},
   "outputs": [
    {
     "data": {
      "text/html": [
       "<div>\n",
       "<style scoped>\n",
       "    .dataframe tbody tr th:only-of-type {\n",
       "        vertical-align: middle;\n",
       "    }\n",
       "\n",
       "    .dataframe tbody tr th {\n",
       "        vertical-align: top;\n",
       "    }\n",
       "\n",
       "    .dataframe thead th {\n",
       "        text-align: right;\n",
       "    }\n",
       "</style>\n",
       "<table border=\"1\" class=\"dataframe\">\n",
       "  <thead>\n",
       "    <tr style=\"text-align: right;\">\n",
       "      <th></th>\n",
       "      <th>Lo 20</th>\n",
       "      <th>Hi 20</th>\n",
       "    </tr>\n",
       "  </thead>\n",
       "  <tbody>\n",
       "    <tr>\n",
       "      <td>2015-01</td>\n",
       "      <td>-0.0279</td>\n",
       "      <td>-0.0330</td>\n",
       "    </tr>\n",
       "    <tr>\n",
       "      <td>2015-01</td>\n",
       "      <td>0.0564</td>\n",
       "      <td>0.0616</td>\n",
       "    </tr>\n",
       "    <tr>\n",
       "      <td>2015-01</td>\n",
       "      <td>-0.0029</td>\n",
       "      <td>-0.0133</td>\n",
       "    </tr>\n",
       "    <tr>\n",
       "      <td>2015-01</td>\n",
       "      <td>0.0040</td>\n",
       "      <td>0.0130</td>\n",
       "    </tr>\n",
       "    <tr>\n",
       "      <td>2015-01</td>\n",
       "      <td>0.0053</td>\n",
       "      <td>0.0058</td>\n",
       "    </tr>\n",
       "    <tr>\n",
       "      <td>2015-01</td>\n",
       "      <td>0.0025</td>\n",
       "      <td>-0.0235</td>\n",
       "    </tr>\n",
       "    <tr>\n",
       "      <td>2015-01</td>\n",
       "      <td>-0.0533</td>\n",
       "      <td>0.0107</td>\n",
       "    </tr>\n",
       "    <tr>\n",
       "      <td>2015-01</td>\n",
       "      <td>-0.0347</td>\n",
       "      <td>-0.0559</td>\n",
       "    </tr>\n",
       "    <tr>\n",
       "      <td>2015-01</td>\n",
       "      <td>-0.0610</td>\n",
       "      <td>-0.0333</td>\n",
       "    </tr>\n",
       "    <tr>\n",
       "      <td>2015-01</td>\n",
       "      <td>0.0385</td>\n",
       "      <td>0.0710</td>\n",
       "    </tr>\n",
       "    <tr>\n",
       "      <td>2015-01</td>\n",
       "      <td>0.0165</td>\n",
       "      <td>0.0015</td>\n",
       "    </tr>\n",
       "    <tr>\n",
       "      <td>2015-01</td>\n",
       "      <td>-0.0500</td>\n",
       "      <td>-0.0229</td>\n",
       "    </tr>\n",
       "  </tbody>\n",
       "</table>\n",
       "</div>"
      ],
      "text/plain": [
       "          Lo 20   Hi 20\n",
       "2015-01 -0.0279 -0.0330\n",
       "2015-01  0.0564  0.0616\n",
       "2015-01 -0.0029 -0.0133\n",
       "2015-01  0.0040  0.0130\n",
       "2015-01  0.0053  0.0058\n",
       "2015-01  0.0025 -0.0235\n",
       "2015-01 -0.0533  0.0107\n",
       "2015-01 -0.0347 -0.0559\n",
       "2015-01 -0.0610 -0.0333\n",
       "2015-01  0.0385  0.0710\n",
       "2015-01  0.0165  0.0015\n",
       "2015-01 -0.0500 -0.0229"
      ]
     },
     "execution_count": 99,
     "metadata": {},
     "output_type": "execute_result"
    }
   ],
   "source": [
    "# Get returns from 1999 to 2015 period\n",
    "periodic_returns=returns[\"1999\": \"2015\"]\n",
    "periodic_returns.index.min()\n",
    "periodic_returns.index.max()\n",
    " periodic_returns[\"2015\"]"
   ]
  },
  {
   "cell_type": "code",
   "execution_count": 100,
   "metadata": {},
   "outputs": [
    {
     "data": {
      "text/plain": [
       "Lo 20    0.114426\n",
       "Hi 20    0.062865\n",
       "dtype: float64"
      ]
     },
     "execution_count": 100,
     "metadata": {},
     "output_type": "execute_result"
    }
   ],
   "source": [
    "# Annual returns for term period\n",
    "no_months = periodic_returns.shape[0]\n",
    "month_returns = (1+periodic_returns).prod()**(1/no_months) -1\n",
    "annual_returns = (1+month_returns)**12 -1\n",
    "annual_returns"
   ]
  },
  {
   "cell_type": "code",
   "execution_count": 101,
   "metadata": {},
   "outputs": [
    {
     "data": {
      "text/plain": [
       "Lo 20    0.228894\n",
       "Hi 20    0.172713\n",
       "dtype: float64"
      ]
     },
     "execution_count": 101,
     "metadata": {},
     "output_type": "execute_result"
    }
   ],
   "source": [
    "# Annual Volatility for fixed term\n",
    "annual_vol = periodic_returns.std()*np.sqrt(12)\n",
    "annual_vol"
   ]
  },
  {
   "cell_type": "code",
   "execution_count": 102,
   "metadata": {},
   "outputs": [],
   "source": [
    "import risk as r"
   ]
  },
  {
   "cell_type": "code",
   "execution_count": 107,
   "metadata": {},
   "outputs": [
    {
     "data": {
      "text/plain": [
       "Wealth      1034.189842\n",
       "Peaks       1111.400000\n",
       "Drawdown      -0.624809\n",
       "dtype: float64"
      ]
     },
     "execution_count": 107,
     "metadata": {},
     "output_type": "execute_result"
    }
   ],
   "source": [
    "r.drawdowns(periodic_returns[\"Lo 20\"]).min()"
   ]
  },
  {
   "cell_type": "code",
   "execution_count": 111,
   "metadata": {},
   "outputs": [
    {
     "data": {
      "text/plain": [
       "Period('2009-01', 'M')"
      ]
     },
     "execution_count": 111,
     "metadata": {},
     "output_type": "execute_result"
    }
   ],
   "source": [
    "r.drawdowns(periodic_returns[\"Lo 20\"])[\"Drawdown\"].idxmin()"
   ]
  },
  {
   "cell_type": "code",
   "execution_count": 171,
   "metadata": {},
   "outputs": [
    {
     "data": {
      "text/plain": [
       "-0.5527349978713653"
      ]
     },
     "execution_count": 171,
     "metadata": {},
     "output_type": "execute_result"
    }
   ],
   "source": [
    "indx=r.drawdowns(periodic_returns[\"Hi 20\"])\n",
    "indx[\"Drawdown\"].min()"
   ]
  },
  {
   "cell_type": "code",
   "execution_count": 145,
   "metadata": {},
   "outputs": [
    {
     "data": {
      "text/plain": [
       "Period('1999-01', 'M')"
      ]
     },
     "execution_count": 145,
     "metadata": {},
     "output_type": "execute_result"
    }
   ],
   "source": [
    "r.drawdowns(periodic_returns[\"Hi 20\"])[\"Drawdown\"].idxmax()"
   ]
  },
  {
   "cell_type": "code",
   "execution_count": 120,
   "metadata": {},
   "outputs": [
    {
     "data": {
      "text/html": [
       "<div>\n",
       "<style scoped>\n",
       "    .dataframe tbody tr th:only-of-type {\n",
       "        vertical-align: middle;\n",
       "    }\n",
       "\n",
       "    .dataframe tbody tr th {\n",
       "        vertical-align: top;\n",
       "    }\n",
       "\n",
       "    .dataframe thead th {\n",
       "        text-align: right;\n",
       "    }\n",
       "</style>\n",
       "<table border=\"1\" class=\"dataframe\">\n",
       "  <thead>\n",
       "    <tr style=\"text-align: right;\">\n",
       "      <th></th>\n",
       "      <th>Convertible Arbitrage</th>\n",
       "      <th>CTA Global</th>\n",
       "      <th>Distressed Securities</th>\n",
       "      <th>Emerging Markets</th>\n",
       "      <th>Equity Market Neutral</th>\n",
       "      <th>Event Driven</th>\n",
       "      <th>Fixed Income Arbitrage</th>\n",
       "      <th>Global Macro</th>\n",
       "      <th>Long/Short Equity</th>\n",
       "      <th>Merger Arbitrage</th>\n",
       "      <th>Relative Value</th>\n",
       "      <th>Short Selling</th>\n",
       "      <th>Funds Of Funds</th>\n",
       "    </tr>\n",
       "    <tr>\n",
       "      <th>date</th>\n",
       "      <th></th>\n",
       "      <th></th>\n",
       "      <th></th>\n",
       "      <th></th>\n",
       "      <th></th>\n",
       "      <th></th>\n",
       "      <th></th>\n",
       "      <th></th>\n",
       "      <th></th>\n",
       "      <th></th>\n",
       "      <th></th>\n",
       "      <th></th>\n",
       "      <th></th>\n",
       "    </tr>\n",
       "  </thead>\n",
       "  <tbody>\n",
       "    <tr>\n",
       "      <td>1997-01-31</td>\n",
       "      <td>1.19</td>\n",
       "      <td>3.93</td>\n",
       "      <td>1.78</td>\n",
       "      <td>7.91</td>\n",
       "      <td>1.89</td>\n",
       "      <td>2.13</td>\n",
       "      <td>1.91</td>\n",
       "      <td>5.73</td>\n",
       "      <td>2.81</td>\n",
       "      <td>1.50</td>\n",
       "      <td>1.80</td>\n",
       "      <td>-1.66</td>\n",
       "      <td>3.17</td>\n",
       "    </tr>\n",
       "    <tr>\n",
       "      <td>1997-02-28</td>\n",
       "      <td>1.23</td>\n",
       "      <td>2.98</td>\n",
       "      <td>1.22</td>\n",
       "      <td>5.25</td>\n",
       "      <td>1.01</td>\n",
       "      <td>0.84</td>\n",
       "      <td>1.22</td>\n",
       "      <td>1.75</td>\n",
       "      <td>-0.06</td>\n",
       "      <td>0.34</td>\n",
       "      <td>1.18</td>\n",
       "      <td>4.26</td>\n",
       "      <td>1.06</td>\n",
       "    </tr>\n",
       "    <tr>\n",
       "      <td>1997-03-31</td>\n",
       "      <td>0.78</td>\n",
       "      <td>-0.21</td>\n",
       "      <td>-0.12</td>\n",
       "      <td>-1.20</td>\n",
       "      <td>0.16</td>\n",
       "      <td>-0.23</td>\n",
       "      <td>1.09</td>\n",
       "      <td>-1.19</td>\n",
       "      <td>-0.84</td>\n",
       "      <td>0.60</td>\n",
       "      <td>0.10</td>\n",
       "      <td>7.78</td>\n",
       "      <td>-0.77</td>\n",
       "    </tr>\n",
       "    <tr>\n",
       "      <td>1997-04-30</td>\n",
       "      <td>0.86</td>\n",
       "      <td>-1.70</td>\n",
       "      <td>0.30</td>\n",
       "      <td>1.19</td>\n",
       "      <td>1.19</td>\n",
       "      <td>-0.05</td>\n",
       "      <td>1.30</td>\n",
       "      <td>1.72</td>\n",
       "      <td>0.84</td>\n",
       "      <td>-0.01</td>\n",
       "      <td>1.22</td>\n",
       "      <td>-1.29</td>\n",
       "      <td>0.09</td>\n",
       "    </tr>\n",
       "    <tr>\n",
       "      <td>1997-05-31</td>\n",
       "      <td>1.56</td>\n",
       "      <td>-0.15</td>\n",
       "      <td>2.33</td>\n",
       "      <td>3.15</td>\n",
       "      <td>1.89</td>\n",
       "      <td>3.46</td>\n",
       "      <td>1.18</td>\n",
       "      <td>1.08</td>\n",
       "      <td>3.94</td>\n",
       "      <td>1.97</td>\n",
       "      <td>1.73</td>\n",
       "      <td>-7.37</td>\n",
       "      <td>2.75</td>\n",
       "    </tr>\n",
       "  </tbody>\n",
       "</table>\n",
       "</div>"
      ],
      "text/plain": [
       "            Convertible Arbitrage  CTA Global  Distressed Securities  \\\n",
       "date                                                                   \n",
       "1997-01-31                   1.19        3.93                   1.78   \n",
       "1997-02-28                   1.23        2.98                   1.22   \n",
       "1997-03-31                   0.78       -0.21                  -0.12   \n",
       "1997-04-30                   0.86       -1.70                   0.30   \n",
       "1997-05-31                   1.56       -0.15                   2.33   \n",
       "\n",
       "            Emerging Markets  Equity Market Neutral  Event Driven  \\\n",
       "date                                                                \n",
       "1997-01-31              7.91                   1.89          2.13   \n",
       "1997-02-28              5.25                   1.01          0.84   \n",
       "1997-03-31             -1.20                   0.16         -0.23   \n",
       "1997-04-30              1.19                   1.19         -0.05   \n",
       "1997-05-31              3.15                   1.89          3.46   \n",
       "\n",
       "            Fixed Income Arbitrage  Global Macro  Long/Short Equity  \\\n",
       "date                                                                  \n",
       "1997-01-31                    1.91          5.73               2.81   \n",
       "1997-02-28                    1.22          1.75              -0.06   \n",
       "1997-03-31                    1.09         -1.19              -0.84   \n",
       "1997-04-30                    1.30          1.72               0.84   \n",
       "1997-05-31                    1.18          1.08               3.94   \n",
       "\n",
       "            Merger Arbitrage  Relative Value  Short Selling  Funds Of Funds  \n",
       "date                                                                         \n",
       "1997-01-31              1.50            1.80          -1.66            3.17  \n",
       "1997-02-28              0.34            1.18           4.26            1.06  \n",
       "1997-03-31              0.60            0.10           7.78           -0.77  \n",
       "1997-04-30             -0.01            1.22          -1.29            0.09  \n",
       "1997-05-31              1.97            1.73          -7.37            2.75  "
      ]
     },
     "execution_count": 120,
     "metadata": {},
     "output_type": "execute_result"
    }
   ],
   "source": [
    "hfi_file = pd.read_csv(r'C:\\data\\edhec-hedgefundindices.csv', header=0, index_col=0, parse_dates=True)\n",
    "hfi_file.head()"
   ]
  },
  {
   "cell_type": "code",
   "execution_count": 127,
   "metadata": {},
   "outputs": [
    {
     "data": {
      "text/html": [
       "<div>\n",
       "<style scoped>\n",
       "    .dataframe tbody tr th:only-of-type {\n",
       "        vertical-align: middle;\n",
       "    }\n",
       "\n",
       "    .dataframe tbody tr th {\n",
       "        vertical-align: top;\n",
       "    }\n",
       "\n",
       "    .dataframe thead th {\n",
       "        text-align: right;\n",
       "    }\n",
       "</style>\n",
       "<table border=\"1\" class=\"dataframe\">\n",
       "  <thead>\n",
       "    <tr style=\"text-align: right;\">\n",
       "      <th></th>\n",
       "      <th>Convertible Arbitrage</th>\n",
       "      <th>CTA Global</th>\n",
       "      <th>Distressed Securities</th>\n",
       "      <th>Emerging Markets</th>\n",
       "      <th>Equity Market Neutral</th>\n",
       "      <th>Event Driven</th>\n",
       "      <th>Fixed Income Arbitrage</th>\n",
       "      <th>Global Macro</th>\n",
       "      <th>Long/Short Equity</th>\n",
       "      <th>Merger Arbitrage</th>\n",
       "      <th>Relative Value</th>\n",
       "      <th>Short Selling</th>\n",
       "      <th>Funds Of Funds</th>\n",
       "    </tr>\n",
       "    <tr>\n",
       "      <th>date</th>\n",
       "      <th></th>\n",
       "      <th></th>\n",
       "      <th></th>\n",
       "      <th></th>\n",
       "      <th></th>\n",
       "      <th></th>\n",
       "      <th></th>\n",
       "      <th></th>\n",
       "      <th></th>\n",
       "      <th></th>\n",
       "      <th></th>\n",
       "      <th></th>\n",
       "      <th></th>\n",
       "    </tr>\n",
       "  </thead>\n",
       "  <tbody>\n",
       "    <tr>\n",
       "      <td>2009-01</td>\n",
       "      <td>0.0491</td>\n",
       "      <td>-0.0016</td>\n",
       "      <td>0.0082</td>\n",
       "      <td>-0.0112</td>\n",
       "      <td>0.0079</td>\n",
       "      <td>0.0132</td>\n",
       "      <td>0.0112</td>\n",
       "      <td>0.0029</td>\n",
       "      <td>-0.0017</td>\n",
       "      <td>0.0056</td>\n",
       "      <td>0.0100</td>\n",
       "      <td>0.0282</td>\n",
       "      <td>0.0060</td>\n",
       "    </tr>\n",
       "    <tr>\n",
       "      <td>2009-02</td>\n",
       "      <td>0.0164</td>\n",
       "      <td>-0.0031</td>\n",
       "      <td>-0.0122</td>\n",
       "      <td>-0.0133</td>\n",
       "      <td>-0.0046</td>\n",
       "      <td>-0.0091</td>\n",
       "      <td>0.0065</td>\n",
       "      <td>-0.0055</td>\n",
       "      <td>-0.0161</td>\n",
       "      <td>0.0006</td>\n",
       "      <td>-0.0016</td>\n",
       "      <td>0.0328</td>\n",
       "      <td>-0.0037</td>\n",
       "    </tr>\n",
       "    <tr>\n",
       "      <td>2009-03</td>\n",
       "      <td>0.0235</td>\n",
       "      <td>-0.0180</td>\n",
       "      <td>0.0022</td>\n",
       "      <td>0.0350</td>\n",
       "      <td>0.0021</td>\n",
       "      <td>0.0117</td>\n",
       "      <td>0.0057</td>\n",
       "      <td>0.0048</td>\n",
       "      <td>0.0188</td>\n",
       "      <td>0.0125</td>\n",
       "      <td>0.0100</td>\n",
       "      <td>-0.0462</td>\n",
       "      <td>0.0008</td>\n",
       "    </tr>\n",
       "    <tr>\n",
       "      <td>2009-04</td>\n",
       "      <td>0.0500</td>\n",
       "      <td>-0.0140</td>\n",
       "      <td>0.0387</td>\n",
       "      <td>0.0663</td>\n",
       "      <td>-0.0012</td>\n",
       "      <td>0.0337</td>\n",
       "      <td>0.0221</td>\n",
       "      <td>0.0127</td>\n",
       "      <td>0.0375</td>\n",
       "      <td>0.0081</td>\n",
       "      <td>0.0342</td>\n",
       "      <td>-0.0820</td>\n",
       "      <td>0.0092</td>\n",
       "    </tr>\n",
       "    <tr>\n",
       "      <td>2009-05</td>\n",
       "      <td>0.0578</td>\n",
       "      <td>0.0213</td>\n",
       "      <td>0.0504</td>\n",
       "      <td>0.0884</td>\n",
       "      <td>0.0146</td>\n",
       "      <td>0.0442</td>\n",
       "      <td>0.0365</td>\n",
       "      <td>0.0348</td>\n",
       "      <td>0.0516</td>\n",
       "      <td>0.0107</td>\n",
       "      <td>0.0392</td>\n",
       "      <td>0.0008</td>\n",
       "      <td>0.0312</td>\n",
       "    </tr>\n",
       "  </tbody>\n",
       "</table>\n",
       "</div>"
      ],
      "text/plain": [
       "         Convertible Arbitrage  CTA Global  Distressed Securities  \\\n",
       "date                                                                \n",
       "2009-01                 0.0491     -0.0016                 0.0082   \n",
       "2009-02                 0.0164     -0.0031                -0.0122   \n",
       "2009-03                 0.0235     -0.0180                 0.0022   \n",
       "2009-04                 0.0500     -0.0140                 0.0387   \n",
       "2009-05                 0.0578      0.0213                 0.0504   \n",
       "\n",
       "         Emerging Markets  Equity Market Neutral  Event Driven  \\\n",
       "date                                                             \n",
       "2009-01           -0.0112                 0.0079        0.0132   \n",
       "2009-02           -0.0133                -0.0046       -0.0091   \n",
       "2009-03            0.0350                 0.0021        0.0117   \n",
       "2009-04            0.0663                -0.0012        0.0337   \n",
       "2009-05            0.0884                 0.0146        0.0442   \n",
       "\n",
       "         Fixed Income Arbitrage  Global Macro  Long/Short Equity  \\\n",
       "date                                                               \n",
       "2009-01                  0.0112        0.0029            -0.0017   \n",
       "2009-02                  0.0065       -0.0055            -0.0161   \n",
       "2009-03                  0.0057        0.0048             0.0188   \n",
       "2009-04                  0.0221        0.0127             0.0375   \n",
       "2009-05                  0.0365        0.0348             0.0516   \n",
       "\n",
       "         Merger Arbitrage  Relative Value  Short Selling  Funds Of Funds  \n",
       "date                                                                      \n",
       "2009-01            0.0056          0.0100         0.0282          0.0060  \n",
       "2009-02            0.0006         -0.0016         0.0328         -0.0037  \n",
       "2009-03            0.0125          0.0100        -0.0462          0.0008  \n",
       "2009-04            0.0081          0.0342        -0.0820          0.0092  \n",
       "2009-05            0.0107          0.0392         0.0008          0.0312  "
      ]
     },
     "execution_count": 127,
     "metadata": {},
     "output_type": "execute_result"
    }
   ],
   "source": [
    "# get hfi returns from 2009 to 2018\n",
    "hfi_returns=r.get_hfi_returns()\n",
    "hfi_returns.head()\n",
    "periodic_hfi_returns = hfi_returns[\"2009\":\"2018\"]\n",
    "periodic_hfi_returns.head()\n"
   ]
  },
  {
   "cell_type": "code",
   "execution_count": 136,
   "metadata": {},
   "outputs": [
    {
     "data": {
      "text/plain": [
       "Convertible Arbitrage     0.006681\n",
       "CTA Global                0.010996\n",
       "Distressed Securities     0.009498\n",
       "Emerging Markets          0.015276\n",
       "Equity Market Neutral     0.005186\n",
       "Event Driven              0.010135\n",
       "Fixed Income Arbitrage    0.003321\n",
       "Global Macro              0.005075\n",
       "Long/Short Equity         0.012139\n",
       "Merger Arbitrage          0.003611\n",
       "Relative Value            0.005711\n",
       "Short Selling             0.021240\n",
       "Funds Of Funds            0.007948\n",
       "dtype: float64"
      ]
     },
     "execution_count": 136,
     "metadata": {},
     "output_type": "execute_result"
    }
   ],
   "source": [
    "# Calculate semideviation from 2009 to 2018\n",
    "r.semideviation(periodic_hfi_returns)"
   ]
  },
  {
   "cell_type": "code",
   "execution_count": 139,
   "metadata": {},
   "outputs": [
    {
     "data": {
      "text/plain": [
       "Convertible Arbitrage     0.006681\n",
       "CTA Global                0.010996\n",
       "Distressed Securities     0.009498\n",
       "Emerging Markets          0.015276\n",
       "Equity Market Neutral     0.005186\n",
       "Event Driven              0.010135\n",
       "Fixed Income Arbitrage    0.003321\n",
       "Global Macro              0.005075\n",
       "Long/Short Equity         0.012139\n",
       "Merger Arbitrage          0.003611\n",
       "Relative Value            0.005711\n",
       "Short Selling             0.021240\n",
       "Funds Of Funds            0.007948\n",
       "dtype: float64"
      ]
     },
     "execution_count": 139,
     "metadata": {},
     "output_type": "execute_result"
    }
   ],
   "source": [
    "# Semideviation from 2009\n",
    "periodic_hfi_returns = hfi_returns[\"2009\":]\n",
    "r.semideviation(periodic_hfi_returns)\n"
   ]
  },
  {
   "cell_type": "code",
   "execution_count": 140,
   "metadata": {},
   "outputs": [
    {
     "data": {
      "text/plain": [
       "Convertible Arbitrage     1.305911\n",
       "CTA Global                0.052062\n",
       "Distressed Securities    -0.254944\n",
       "Emerging Markets          0.033123\n",
       "Equity Market Neutral    -0.896327\n",
       "Event Driven             -0.488821\n",
       "Fixed Income Arbitrage    1.121453\n",
       "Global Macro              0.348184\n",
       "Long/Short Equity        -0.463703\n",
       "Merger Arbitrage         -0.551065\n",
       "Relative Value            0.159953\n",
       "Short Selling             0.456518\n",
       "Funds Of Funds           -0.646908\n",
       "dtype: float64"
      ]
     },
     "execution_count": 140,
     "metadata": {},
     "output_type": "execute_result"
    }
   ],
   "source": [
    "# Calculate most negatively skewed\n",
    "r.skewness(periodic_hfi_returns)"
   ]
  },
  {
   "cell_type": "code",
   "execution_count": 144,
   "metadata": {},
   "outputs": [
    {
     "data": {
      "text/plain": [
       "Convertible Arbitrage    -2.618058\n",
       "CTA Global                0.155413\n",
       "Distressed Securities    -0.974978\n",
       "Emerging Markets         -0.919347\n",
       "Equity Market Neutral    -2.632139\n",
       "Event Driven             -1.052166\n",
       "Fixed Income Arbitrage   -3.746362\n",
       "Global Macro              0.346942\n",
       "Long/Short Equity        -0.540686\n",
       "Merger Arbitrage         -0.762771\n",
       "Relative Value           -1.789867\n",
       "Short Selling             0.448127\n",
       "Funds Of Funds           -0.683220\n",
       "dtype: float64"
      ]
     },
     "execution_count": 144,
     "metadata": {},
     "output_type": "execute_result"
    }
   ],
   "source": [
    "# Get highest kurtosis for period from 2000:\n",
    "periodic_hfi_returns = hfi_returns[\"2000\": \"2018\"]\n",
    "periodic_hfi_returns\n",
    "r.kurtosis(periodic_hfi_returns)"
   ]
  },
  {
   "cell_type": "code",
   "execution_count": null,
   "metadata": {},
   "outputs": [],
   "source": []
  }
 ],
 "metadata": {
  "kernelspec": {
   "display_name": "Python 3",
   "language": "python",
   "name": "python3"
  },
  "language_info": {
   "codemirror_mode": {
    "name": "ipython",
    "version": 3
   },
   "file_extension": ".py",
   "mimetype": "text/x-python",
   "name": "python",
   "nbconvert_exporter": "python",
   "pygments_lexer": "ipython3",
   "version": "3.7.4"
  }
 },
 "nbformat": 4,
 "nbformat_minor": 4
}
